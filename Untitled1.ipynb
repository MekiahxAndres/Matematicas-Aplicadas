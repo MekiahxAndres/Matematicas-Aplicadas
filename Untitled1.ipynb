{
  "nbformat": 4,
  "nbformat_minor": 0,
  "metadata": {
    "colab": {
      "provenance": [],
      "authorship_tag": "ABX9TyO8Folrs2E2+2QGXacNWEFa",
      "include_colab_link": true
    },
    "kernelspec": {
      "name": "python3",
      "display_name": "Python 3"
    },
    "language_info": {
      "name": "python"
    }
  },
  "cells": [
    {
      "cell_type": "markdown",
      "metadata": {
        "id": "view-in-github",
        "colab_type": "text"
      },
      "source": [
        "<a href=\"https://colab.research.google.com/github/MekiahxAndres/Matematicas-Aplicadas/blob/main/Untitled1.ipynb\" target=\"_parent\"><img src=\"https://colab.research.google.com/assets/colab-badge.svg\" alt=\"Open In Colab\"/></a>"
      ]
    },
    {
      "cell_type": "markdown",
      "source": [
        "###Punto 3\n",
        "**Listas**"
      ],
      "metadata": {
        "id": "wbo8-ROnuE1K"
      }
    },
    {
      "cell_type": "markdown",
      "source": [
        "**3.1**"
      ],
      "metadata": {
        "id": "Lqk7X4BV0DkG"
      }
    },
    {
      "cell_type": "code",
      "source": [
        "x=[2,4,6,8,10,12]"
      ],
      "metadata": {
        "id": "2GnETzr7u_Py"
      },
      "execution_count": 30,
      "outputs": []
    },
    {
      "cell_type": "code",
      "source": [
        "y=[1,2,3,4,5,6]"
      ],
      "metadata": {
        "id": "OasERN3Kzhos"
      },
      "execution_count": 31,
      "outputs": []
    },
    {
      "cell_type": "code",
      "source": [
        "z=[3,6,9,12,15,18]"
      ],
      "metadata": {
        "id": "Z4nB-bhAzkr4"
      },
      "execution_count": 32,
      "outputs": []
    },
    {
      "cell_type": "code",
      "source": [
        "for x in x:\n",
        "  print(x**2)"
      ],
      "metadata": {
        "colab": {
          "base_uri": "https://localhost:8080/"
        },
        "id": "xNNfBxT_vlzn",
        "outputId": "848fb544-da59-474c-8203-414b3c598f80"
      },
      "execution_count": 33,
      "outputs": [
        {
          "output_type": "stream",
          "name": "stdout",
          "text": [
            "4\n",
            "16\n",
            "36\n",
            "64\n",
            "100\n",
            "144\n"
          ]
        }
      ]
    },
    {
      "cell_type": "code",
      "source": [
        "for x in y:\n",
        "  print(x**3)"
      ],
      "metadata": {
        "colab": {
          "base_uri": "https://localhost:8080/"
        },
        "id": "Njon5nrlxu4L",
        "outputId": "b3bd6839-cd1c-47fc-9eb6-7a991b7467e9"
      },
      "execution_count": 34,
      "outputs": [
        {
          "output_type": "stream",
          "name": "stdout",
          "text": [
            "1\n",
            "8\n",
            "27\n",
            "64\n",
            "125\n",
            "216\n"
          ]
        }
      ]
    },
    {
      "cell_type": "code",
      "source": [
        "for x in z:\n",
        "  print(x**(1/2))"
      ],
      "metadata": {
        "colab": {
          "base_uri": "https://localhost:8080/"
        },
        "id": "B_BFTv7_xxGM",
        "outputId": "25ec8ada-4662-4c90-d987-b9f7e16e0585"
      },
      "execution_count": 35,
      "outputs": [
        {
          "output_type": "stream",
          "name": "stdout",
          "text": [
            "1.7320508075688772\n",
            "2.449489742783178\n",
            "3.0\n",
            "3.4641016151377544\n",
            "3.872983346207417\n",
            "4.242640687119285\n"
          ]
        }
      ]
    },
    {
      "cell_type": "markdown",
      "source": [
        "**3.2**"
      ],
      "metadata": {
        "id": "J4Z4Wykw0ZSO"
      }
    },
    {
      "cell_type": "code",
      "source": [
        "alge=float(input(\"Caul fue tu nota en algebra?:\"))\n",
        "log=float(input(\"Cual fue tu nota en logica y argumentacion?:\"))\n",
        "organi=float(input(\"Cual fue tu nota en organizaciones?:\"))\n",
        "intro=float(input(\"Cual fue tu nota en introduccion a la ingenieria de sistemas?:\"))\n",
        "coe=float(input(\"Cual fue tu nota en comunicacion oral y escrita?:\"))\n"
      ],
      "metadata": {
        "id": "B-07t0bF0kqA"
      },
      "execution_count": null,
      "outputs": []
    }
  ]
}