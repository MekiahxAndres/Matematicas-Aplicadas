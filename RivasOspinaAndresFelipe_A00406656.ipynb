{
  "nbformat": 4,
  "nbformat_minor": 0,
  "metadata": {
    "colab": {
      "provenance": [],
      "authorship_tag": "ABX9TyMi36osOotuTdX46OO0G/KS",
      "include_colab_link": true
    },
    "kernelspec": {
      "name": "python3",
      "display_name": "Python 3"
    },
    "language_info": {
      "name": "python"
    }
  },
  "cells": [
    {
      "cell_type": "markdown",
      "metadata": {
        "id": "view-in-github",
        "colab_type": "text"
      },
      "source": [
        "<a href=\"https://colab.research.google.com/github/MekiahxAndres/Matematicas-Aplicadas/blob/main/RivasOspinaAndresFelipe_A00406656.ipynb\" target=\"_parent\"><img src=\"https://colab.research.google.com/assets/colab-badge.svg\" alt=\"Open In Colab\"/></a>"
      ]
    },
    {
      "cell_type": "code",
      "execution_count": null,
      "metadata": {
        "id": "J_bKeZeNnr9v"
      },
      "outputs": [],
      "source": []
    },
    {
      "cell_type": "markdown",
      "source": [
        "# **<Font color=\"Red\"> Actividad En Clase </Font>**\n",
        "\n",
        "## *AutoBiografía*\n",
        "\n",
        "Hola Buenas, mi nombre es Andrés Felipe Rivas Ospina, tengo 18 años, nací el 1 de Abril del 2006 y soy de aquí de Cali. Mis actividades favoritas son ir al Gimnsaio, jugar videojuegos, jugar fútbol y pasar tiempo con mis amigos, familia y pareja. Soy graduado del Colegio Instituto Nuestra Señora de la Asunción (INSA), en el cual aprendí a hablar 2 idiomas (Inglés y Francés) y aprendí muchas bases de sistemas.\n",
        "\n",
        "Actualmente estoy en segundo semestre de la carrera Ingeniería de Sistemas,  el motivo de escoger esta carrera es porque de pequeño me ha gustado mucho todo el tema relacionado a la Tecnología y aun más con el Software, debido a que mi tío es Ingeniero de Software y me ha inculcado todo lo relacionado a Sistemas. La principal razón por la que escogí a Icesi es por la preparación profesional que brindan y por la amplia oferta laboral en 10° semestre.\n",
        "\n",
        "\n",
        "\n",
        "## *Fotografía*\n",
        "\n",
        "<img src=\"https://cdn-3.expansion.mx/dims4/default/dfe30e7/2147483647/strip/true/crop/1125x1108+0+0/resize/1800x1773!/format/webp/quality/80/?url=https%3A%2F%2Fcdn-3.expansion.mx%2F01%2Fd9%2F38db964e40a5bf4167c85f487a96%2Felwbeczvoaissv9.jpg\" width=\"200\" height=\"200\">\n",
        "\n",
        "## *Canciones*\n",
        ">**My Eyes**\n",
        ">>Artista: Travis Scott\n",
        ">>>Compositores: *Justin Deyarmond Edison Vernon / Sampha Sisay / Jacques Webster*\n",
        "\n",
        ">**Sicko Mode**\n",
        ">> Artista: Travis Scott, Drake\n",
        ">>>Compositores: *Ali Shaheed Jones-Muhammad / Aubrey Drake Graham / Bryan Higgins / Brytavious Lakeith Chambers / Chauncey Hollis / Chris Wallace / Christopher Edward Martin / Chylow M. Parker*\n",
        "\n",
        ">**Paranormal**\n",
        ">>Artista: Alvaro Diaz, Tainy\n",
        ">>>Compositor: *Jonathan David Leone / Jorge Alvaro Diaz / Marco E Masis*\n",
        "\n",
        ">**Desenfocao**\n",
        ">>Artista: Raw Alejandro\n",
        ">>>Compositores: *Marcos Efrain Masis / Manuel Lara / Rafael Pabon Navedo / Raul Alejandro Ocasio Ruiz / Eric L. Perez*\n",
        "\n",
        ">**Nightcrawler**\n",
        ">>Artistas: Travis Scott, Swae Lee, Chief Keef\n",
        ">>>Compositores: *Mike Dean / Allen Ritter / Jacques Webster / Joshua Howard Luellen / Keith Cozart / Leland Tyler Wayne / Aaquil Iben Shamon Brown*\n",
        "\n",
        "# *Asignaturas Favoritas*\n",
        "\n",
        "|Materia | Razón |\n",
        "|--------|-------|\n",
        "\n",
        "\n"
      ],
      "metadata": {
        "id": "mCDPLP7_n9zS"
      }
    }
  ]
}