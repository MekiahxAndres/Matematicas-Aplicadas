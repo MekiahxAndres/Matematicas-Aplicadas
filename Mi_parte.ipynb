{
  "nbformat": 4,
  "nbformat_minor": 0,
  "metadata": {
    "colab": {
      "provenance": [],
      "authorship_tag": "ABX9TyPUMsSgdRRu1BQmL9/t1Axi",
      "include_colab_link": true
    },
    "kernelspec": {
      "name": "python3",
      "display_name": "Python 3"
    },
    "language_info": {
      "name": "python"
    }
  },
  "cells": [
    {
      "cell_type": "markdown",
      "metadata": {
        "id": "view-in-github",
        "colab_type": "text"
      },
      "source": [
        "<a href=\"https://colab.research.google.com/github/MekiahxAndres/Matematicas-Aplicadas/blob/main/Mi_parte.ipynb\" target=\"_parent\"><img src=\"https://colab.research.google.com/assets/colab-badge.svg\" alt=\"Open In Colab\"/></a>"
      ]
    },
    {
      "cell_type": "markdown",
      "source": [
        "###Punto 3\n",
        "**Listas**"
      ],
      "metadata": {
        "id": "wbo8-ROnuE1K"
      }
    },
    {
      "cell_type": "markdown",
      "source": [
        "**3.1**"
      ],
      "metadata": {
        "id": "Lqk7X4BV0DkG"
      }
    },
    {
      "cell_type": "code",
      "source": [
        "x=[2,4,6,8,10,12]"
      ],
      "metadata": {
        "id": "2GnETzr7u_Py"
      },
      "execution_count": 30,
      "outputs": []
    },
    {
      "cell_type": "code",
      "source": [
        "y=[1,2,3,4,5,6]"
      ],
      "metadata": {
        "id": "OasERN3Kzhos"
      },
      "execution_count": 31,
      "outputs": []
    },
    {
      "cell_type": "code",
      "source": [
        "z=[3,6,9,12,15,18]"
      ],
      "metadata": {
        "id": "Z4nB-bhAzkr4"
      },
      "execution_count": 32,
      "outputs": []
    },
    {
      "cell_type": "code",
      "source": [
        "for x in x:\n",
        "  print(x**2)"
      ],
      "metadata": {
        "colab": {
          "base_uri": "https://localhost:8080/"
        },
        "id": "xNNfBxT_vlzn",
        "outputId": "848fb544-da59-474c-8203-414b3c598f80"
      },
      "execution_count": 33,
      "outputs": [
        {
          "output_type": "stream",
          "name": "stdout",
          "text": [
            "4\n",
            "16\n",
            "36\n",
            "64\n",
            "100\n",
            "144\n"
          ]
        }
      ]
    },
    {
      "cell_type": "code",
      "source": [
        "for x in y:\n",
        "  print(x**3)"
      ],
      "metadata": {
        "colab": {
          "base_uri": "https://localhost:8080/"
        },
        "id": "Njon5nrlxu4L",
        "outputId": "b3bd6839-cd1c-47fc-9eb6-7a991b7467e9"
      },
      "execution_count": 34,
      "outputs": [
        {
          "output_type": "stream",
          "name": "stdout",
          "text": [
            "1\n",
            "8\n",
            "27\n",
            "64\n",
            "125\n",
            "216\n"
          ]
        }
      ]
    },
    {
      "cell_type": "code",
      "source": [
        "for x in z:\n",
        "  print(x**(1/2))"
      ],
      "metadata": {
        "colab": {
          "base_uri": "https://localhost:8080/"
        },
        "id": "B_BFTv7_xxGM",
        "outputId": "25ec8ada-4662-4c90-d987-b9f7e16e0585"
      },
      "execution_count": 35,
      "outputs": [
        {
          "output_type": "stream",
          "name": "stdout",
          "text": [
            "1.7320508075688772\n",
            "2.449489742783178\n",
            "3.0\n",
            "3.4641016151377544\n",
            "3.872983346207417\n",
            "4.242640687119285\n"
          ]
        }
      ]
    },
    {
      "cell_type": "markdown",
      "source": [
        "**3.2**"
      ],
      "metadata": {
        "id": "J4Z4Wykw0ZSO"
      }
    },
    {
      "cell_type": "code",
      "source": [
        "materias = [\"Algebra y Funciones\", \"COE\", \"Logica\", \"Organizaciones\", \"Intro Sis\", \"Derecho Constitucional\"]\n",
        "\n",
        "tabla = {\"materias\": [], \"Nota\": [], \"Mensaje\": []}\n",
        "\n",
        "def obte_mensaje(nota):\n",
        "    if nota >= 4.0:\n",
        "        return \"Nivel Superior\"\n",
        "    elif 3.5 <= nota < 4.0:\n",
        "        return \"Asignatura Aprobada pero debe asistir a plan de mejoramiento, diríjase a CAMBAS\"\n",
        "    else:\n",
        "        return \"Asignatura No Aprobada. Debe repetirla el próximo semestre\"\n",
        "\n",
        "for asignatura in materias:\n",
        "    nota = float(input(f\"Ingrese la nota obtenida en {asignatura}: \"))\n",
        "    mensaje = obte_mensaje(nota)\n",
        "    tabla[\"materias\"].append(asignatura)\n",
        "    tabla[\"Nota\"].append(nota)\n",
        "    tabla[\"Mensaje\"].append(mensaje)\n",
        "    print(f\"Para la asignatura {asignatura}: {mensaje}\")\n",
        "\n",
        "print(\"\\nTabla de Asignaturas, Notas y Mensajes:\")\n",
        "print(\"Asignatura\\tNota\\tMensaje\")\n",
        "for i in range(len(materias)):\n",
        "    print(f\"{tabla['materias'][i]}\\t{tabla['Nota'][i]}\\t{tabla['Mensaje'][i]}\")\n"
      ],
      "metadata": {
        "colab": {
          "base_uri": "https://localhost:8080/"
        },
        "id": "B-07t0bF0kqA",
        "outputId": "5491b36c-f95e-41a2-a845-3b4f16dd0a8b"
      },
      "execution_count": 46,
      "outputs": [
        {
          "output_type": "stream",
          "name": "stdout",
          "text": [
            "Ingrese la nota obtenida en Algebra y Funciones: 5\n",
            "Para la asignatura Algebra y Funciones: Nivel Superior\n",
            "Ingrese la nota obtenida en COE: 3\n",
            "Para la asignatura COE: Asignatura No Aprobada. Debe repetirla el próximo semestre\n",
            "Ingrese la nota obtenida en Logica: 1\n",
            "Para la asignatura Logica: Asignatura No Aprobada. Debe repetirla el próximo semestre\n",
            "Ingrese la nota obtenida en Organizaciones: 2\n",
            "Para la asignatura Organizaciones: Asignatura No Aprobada. Debe repetirla el próximo semestre\n",
            "Ingrese la nota obtenida en Intro Sis: 3.5\n",
            "Para la asignatura Intro Sis: Asignatura Aprobada pero debe asistir a plan de mejoramiento, diríjase a CAMBAS\n",
            "Ingrese la nota obtenida en Derecho Constitucional: 5\n",
            "Para la asignatura Derecho Constitucional: Nivel Superior\n",
            "\n",
            "Tabla de Asignaturas, Notas y Mensajes:\n",
            "Asignatura\tNota\tMensaje\n",
            "Algebra y Funciones\t5.0\tNivel Superior\n",
            "COE\t3.0\tAsignatura No Aprobada. Debe repetirla el próximo semestre\n",
            "Logica\t1.0\tAsignatura No Aprobada. Debe repetirla el próximo semestre\n",
            "Organizaciones\t2.0\tAsignatura No Aprobada. Debe repetirla el próximo semestre\n",
            "Intro Sis\t3.5\tAsignatura Aprobada pero debe asistir a plan de mejoramiento, diríjase a CAMBAS\n",
            "Derecho Constitucional\t5.0\tNivel Superior\n"
          ]
        }
      ]
    }
  ]
}