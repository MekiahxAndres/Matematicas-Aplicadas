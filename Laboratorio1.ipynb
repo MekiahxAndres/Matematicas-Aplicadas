{
  "nbformat": 4,
  "nbformat_minor": 0,
  "metadata": {
    "colab": {
      "provenance": [],
      "include_colab_link": true
    },
    "kernelspec": {
      "name": "python3",
      "display_name": "Python 3"
    },
    "language_info": {
      "name": "python"
    }
  },
  "cells": [
    {
      "cell_type": "markdown",
      "metadata": {
        "id": "view-in-github",
        "colab_type": "text"
      },
      "source": [
        "<a href=\"https://colab.research.google.com/github/MekiahxAndres/Matematicas-Aplicadas/blob/main/Laboratorio1.ipynb\" target=\"_parent\"><img src=\"https://colab.research.google.com/assets/colab-badge.svg\" alt=\"Open In Colab\"/></a>"
      ]
    },
    {
      "cell_type": "markdown",
      "source": [
        "##**Laboratorio 1**\n",
        "***Cajero automático***"
      ],
      "metadata": {
        "id": "QitqdpXNu2b_"
      }
    },
    {
      "cell_type": "markdown",
      "source": [
        "##Integrantes:\n",
        "\n",
        "- *Andrés Felipe Rivas Ospina*\n",
        "- *William Javier Jimenez Moran*\n",
        "- *Freddy Alejandro Cifuentes*\n",
        "- *Isabella Londoño Lerma*"
      ],
      "metadata": {
        "id": "6GZHm-_ovclX"
      }
    },
    {
      "cell_type": "code",
      "source": [
        "import numpy as np\n",
        "\n",
        "balance = np.random.choice(np.linspace(100, 10000, 100))\n",
        "print(\"Bienevido, Por favor Registrate\")\n",
        "id = input(\"Ingrese el ID: \")\n",
        "contr = input(\"Digite tu contraseña: \")\n",
        "\n",
        "confirmcontra = input(\"Confirme su contraseña: \")\n",
        "\n",
        "while confirmcontra != contr:\n",
        "    print(\"Tu contraseña es Incorrecta\")\n",
        "    confirmcontra = input(\"Confirme su contraseña: \")\n",
        "\n",
        "while True:\n",
        "    print(\"\\nMenú de opciones:\")\n",
        "    print(\"Digita 1 para consultar tu saldo\")\n",
        "    print(\"Digita 2 para Depositar Dinero\")\n",
        "    print(\"Digita 3 para Retirar Dinero\")\n",
        "    print(\"Digita 4 Transferir Dinero\")\n",
        "    print(\"Digita 5 para Salir\")\n",
        "\n",
        "    decision = int(input(\"¿Qué deseas hacer? \"))\n",
        "\n",
        "    if decision == 1:\n",
        "        print(f\"Su saldo actual es: {balance}\")\n",
        "\n",
        "    elif decision == 2:\n",
        "        cantidad = float(input(\"¿Qué cantidad deseas depositar? \"))\n",
        "        balance += cantidad\n",
        "        print(f\"Su saldo actual es de: {balance}\")\n",
        "\n",
        "    elif decision == 3:\n",
        "        retiro = float(input(\"¿Cuánto dinero quieres retirar? \"))\n",
        "        if retiro > balance:\n",
        "            print(\"Error, esa cantidad no es posible\")\n",
        "        else:\n",
        "            balance -= retiro\n",
        "            print(f\"Su saldo actual es: {balance}\")\n",
        "\n",
        "    elif decision == 4:\n",
        "        transf = float(input(\"¿Qué cantidad deseas transferir? \"))\n",
        "        if transf > balance:\n",
        "            print(\"Error, saldo insuficiente\")\n",
        "        else:\n",
        "            cuen = input(\"¿A qué cuenta deseas transferir el dinero? \")\n",
        "            balance -= transf\n",
        "            print(f\"Transferencia exitosa, tu balance actual es: {balance}\")\n",
        "\n",
        "    elif decision == 5:\n",
        "        print(\"Fue un placer haberte servido, esperamos que vuelvas pronto.\")\n",
        "        break\n",
        "\n",
        "    else:\n",
        "        print(\"Opción no válida, por favor intenta de nuevo.\")\n"
      ],
      "metadata": {
        "id": "2PW4AU0_EHZ4",
        "colab": {
          "base_uri": "https://localhost:8080/"
        },
        "outputId": "4b6dbfae-5ea3-4e20-83f3-ca96159954c1"
      },
      "execution_count": null,
      "outputs": [
        {
          "output_type": "stream",
          "name": "stdout",
          "text": [
            "Bienevido, Por favor Registrate\n",
            "Ingrese el ID: 1234567\n",
            "Digite tu contraseña: 12\n",
            "Confirme su contraseña1\n",
            "Tu contraseña es Incorrecta\n"
          ]
        }
      ]
    }
  ]
}